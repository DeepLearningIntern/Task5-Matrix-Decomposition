{
  "nbformat": 4,
  "nbformat_minor": 0,
  "metadata": {
    "colab": {
      "provenance": []
    },
    "kernelspec": {
      "name": "python3",
      "display_name": "Python 3"
    },
    "language_info": {
      "name": "python"
    }
  },
  "cells": [
    {
      "cell_type": "markdown",
      "source": [
        "\n",
        "\n",
        "## **Assignment: NumPy Operations, MNIST, and SVD**\n",
        "\n",
        "### **Objective**\n",
        "1. Practice basic NumPy operations (concatenation, broadcasting).\n",
        "2. Load and explore the MNIST dataset.\n",
        "3. Perform SVD decomposition on MNIST images.\n",
        "4. Use truncated SVD for dimensionality reduction.\n",
        "5. Visualize how well compressed data can be reconstructed.\n",
        "\n",
        "---\n",
        "\n",
        "## **Assignment Questions**\n",
        "\n",
        "1. **NumPy Operations**  \n",
        "   - Show how concatenation differs along `axis=0` vs `axis=1`. Provide an example.  \n",
        "   - Demonstrate broadcasting by adding a 2D array to a 1D array. Explain why it works.\n",
        "\n",
        "2. **SVD Basics**  \n",
        "   - In your own words, describe the matrices \\(U\\), \\(\\Sigma\\), and \\(V^T\\) from the SVD and how they relate to the original data matrix \\(X\\).\n",
        "\n",
        "3. **MNIST Dimensionality Reduction**  \n",
        "   - Explain why we might want to reduce the dimensionality of MNIST images. What are the benefits?  \n",
        "   - Provide a plot of reconstruction error as a function of the rank \\(k\\).  \n",
        "   - Show a few reconstructed images for \\(k = 20\\), \\(k = 50\\), \\(k = 100\\), etc. Comment on the visual differences.\n",
        "\n",
        "4. **Further Exploration**  \n",
        "   - If time/resources allow, compare using SVD to other dimensionality reduction techniques (like PCA or autoencoders, if you know about them).  \n",
        "\n",
        "---\n",
        "\n",
        "### **Submission Instructions**\n",
        "\n",
        "1. Make sure your notebook is properly **annotated** with markdown cells explaining your code and results.  \n",
        "2. Provide answers to the **Assignment Questions** in text cells.  \n",
        "3. Include **plots** and **output** in your submission.  \n",
        "\n",
        "**Congratulations!** You’ve performed a fundamental SVD-based dimensionality reduction on MNIST and explored basic NumPy operations."
      ],
      "metadata": {
        "id": "wmTZw-70a1Hc"
      }
    },
    {
      "cell_type": "code",
      "source": [
        "import numpy as np\n",
        "import pandas as pd\n",
        "import matplotlib.pyplot as plt\n",
        "from tensorflow.keras.datasets import mnist\n",
        "\n",
        "# Set a seed for reproducibility\n",
        "np.random.seed(42)"
      ],
      "metadata": {
        "id": "Oe1rtFAgfsL0"
      },
      "execution_count": 1,
      "outputs": []
    },
    {
      "cell_type": "markdown",
      "source": [
        "\n",
        "### **Part 1: Introduction to NumPy**\n",
        "\n",
        "We will explore simple NumPy operations such as **array creation**, **concatenation**, and **broadcasting**."
      ],
      "metadata": {
        "id": "Lic1iWvCf1Dt"
      }
    },
    {
      "cell_type": "markdown",
      "source": [
        "#### **1.1 Array Creation**\n",
        "\n"
      ],
      "metadata": {
        "id": "OvIMCJdif8sK"
      }
    },
    {
      "cell_type": "code",
      "source": [
        "# Set a seed for reproducibility\n",
        "np.random.seed(42)\n",
        "\n",
        "# Create two random arrays\n",
        "A = np.random.randint(0, 10, (3, 3))  # 3x3 matrix of integers\n",
        "B = np.random.randint(0, 10, (3, 3))\n",
        "\n",
        "# Print arrays\n",
        "print(\"Array A:\\n\", A)\n",
        "print(\"\\nArray B:\\n\", B)\n",
        "\n",
        "# Print shapes\n",
        "print(\"\\nShape of A:\", A.shape)\n",
        "print(\"Shape of B:\", B.shape)\n",
        "\n",
        "# Reshape A into a 1D array using ravel\n",
        "A_ravel = A.ravel()\n",
        "\n",
        "# Print reshaped array and its shape\n",
        "print(\"\\nFlattened A (1D array):\", A_ravel)\n",
        "print(\"Shape of Flattened A:\", A_ravel.shape)\n"
      ],
      "metadata": {
        "colab": {
          "base_uri": "https://localhost:8080/"
        },
        "id": "-_wNTQEufs9A",
        "outputId": "f1264964-af83-40b9-da88-a357834be474"
      },
      "execution_count": 2,
      "outputs": [
        {
          "output_type": "stream",
          "name": "stdout",
          "text": [
            "Array A:\n",
            " [[6 3 7]\n",
            " [4 6 9]\n",
            " [2 6 7]]\n",
            "\n",
            "Array B:\n",
            " [[4 3 7]\n",
            " [7 2 5]\n",
            " [4 1 7]]\n",
            "\n",
            "Shape of A: (3, 3)\n",
            "Shape of B: (3, 3)\n",
            "\n",
            "Flattened A (1D array): [6 3 7 4 6 9 2 6 7]\n",
            "Shape of Flattened A: (9,)\n"
          ]
        }
      ]
    },
    {
      "cell_type": "markdown",
      "source": [
        "#### **1.2 Concatenation**\n",
        "\n",
        "#### Difference Between `axis=0` and `axis=1` in Concatenation\n",
        "In NumPy, the `axis` parameter determines how arrays are concatenated or manipulated.\n",
        "\n",
        "`axis=0` (Vertical Concatenation / Row-wise stacking)\n",
        "\n",
        "Stacks arrays on top of each other.\n",
        "The number of rows increases, while the number of columns remains the same.\n",
        "Example: If `A` and `B` are (3,3) matrices, the resulting matrix will be (6,3).\n",
        "`axis=1` (Horizontal Concatenation / Column-wise stacking)\n",
        "\n",
        "Stacks arrays side by side.\n",
        "The number of columns increases, while the number of rows remains the same.\n",
        "Example: If `A` and `B` are (3,3) matrices, the resulting matrix will be (3,6)."
      ],
      "metadata": {
        "id": "PMmgZJVbgAVT"
      }
    },
    {
      "cell_type": "code",
      "source": [
        "# Concatenation along axis=0 (vertical)\n",
        "C_vertical = np.concatenate((A, B), axis=0)\n",
        "\n",
        "# Concatenation along axis=1 (horizontal)\n",
        "C_horizontal = np.concatenate((A, B), axis=1)\n",
        "\n",
        "# Print results\n",
        "print(\"\\nVertical Concatenation (axis=0):\\n\", C_vertical)\n",
        "print(\"\\nShape of Vertical Concatenation:\", C_vertical.shape)\n",
        "\n",
        "print(\"\\nHorizontal Concatenation (axis=1):\\n\", C_horizontal)\n",
        "print(\"\\nShape of Horizontal Concatenation:\", C_horizontal.shape)"
      ],
      "metadata": {
        "id": "M8Sz3_KfbIMb",
        "colab": {
          "base_uri": "https://localhost:8080/"
        },
        "outputId": "e4d5a376-4ada-44fa-e10b-005dbd5e50de"
      },
      "execution_count": 3,
      "outputs": [
        {
          "output_type": "stream",
          "name": "stdout",
          "text": [
            "\n",
            "Vertical Concatenation (axis=0):\n",
            " [[6 3 7]\n",
            " [4 6 9]\n",
            " [2 6 7]\n",
            " [4 3 7]\n",
            " [7 2 5]\n",
            " [4 1 7]]\n",
            "\n",
            "Shape of Vertical Concatenation: (6, 3)\n",
            "\n",
            "Horizontal Concatenation (axis=1):\n",
            " [[6 3 7 4 3 7]\n",
            " [4 6 9 7 2 5]\n",
            " [2 6 7 4 1 7]]\n",
            "\n",
            "Shape of Horizontal Concatenation: (3, 6)\n"
          ]
        }
      ]
    },
    {
      "cell_type": "markdown",
      "source": [
        "#### **1.3 Broadcasting**\n",
        "\n",
        "#### Explanation of Broadcasting\n",
        "Broadcasting in NumPy allows operations between arrays of different shapes by expanding their dimensions to match each other without copying data.\n",
        "\n",
        "Shapes of Given Vectors:\n",
        "\n",
        "`col_vec`: (3,1) → A column vector (3 rows, 1 column).\n",
        "\n",
        "`row_vec`: (1,3) → A row vector (1 row, 3 columns).\n",
        "Broadcasting Mechanism:\n",
        "\n",
        "NumPy expands the smaller dimension to match the larger one without duplicating the data.\n",
        "\n",
        "In this case:\n",
        "\n",
        "`col_vec` (3,1) expands across columns to (3,3).\n",
        "\n",
        "`row_vec` (1,3) expands across rows to (3,3).\n",
        "The operation is then performed elementwise on these expanded versions."
      ],
      "metadata": {
        "id": "i-xE5Thvgk3U"
      }
    },
    {
      "cell_type": "code",
      "source": [
        "# Create a 3x1 column vector and a 1x3 row vector\n",
        "col_vec = np.array([[1], [2], [3]])   # Shape (3,1)\n",
        "row_vec = np.array([[1, 2, 3]])       # Shape (1,3)\n",
        "\n",
        "# Print the original vectors\n",
        "print(\"Column Vector:\\n\", col_vec)\n",
        "print(\"\\nRow Vector:\\n\", row_vec)\n",
        "\n",
        "# Perform elementwise broadcasting addition\n",
        "broadcast_sum = col_vec + row_vec\n",
        "print(\"\\nBroadcasted Sum:\\n\", broadcast_sum)\n",
        "\n",
        "# Perform elementwise broadcasting multiplication\n",
        "broadcast_product = col_vec * row_vec\n",
        "print(\"\\nBroadcasted Product:\\n\", broadcast_product)"
      ],
      "metadata": {
        "colab": {
          "base_uri": "https://localhost:8080/"
        },
        "id": "6uLx6uUogOSL",
        "outputId": "3b744b86-aa7f-45e6-891a-88fc69d334b8"
      },
      "execution_count": 4,
      "outputs": [
        {
          "output_type": "stream",
          "name": "stdout",
          "text": [
            "Column Vector:\n",
            " [[1]\n",
            " [2]\n",
            " [3]]\n",
            "\n",
            "Row Vector:\n",
            " [[1 2 3]]\n",
            "\n",
            "Broadcasted Sum:\n",
            " [[2 3 4]\n",
            " [3 4 5]\n",
            " [4 5 6]]\n",
            "\n",
            "Broadcasted Product:\n",
            " [[1 2 3]\n",
            " [2 4 6]\n",
            " [3 6 9]]\n"
          ]
        }
      ]
    },
    {
      "cell_type": "markdown",
      "source": [
        "#### **2.1 Loading the Data**\n"
      ],
      "metadata": {
        "id": "TbTMBxlygmJf"
      }
    },
    {
      "cell_type": "code",
      "source": [
        "# Load MNIST from Keras\n",
        "(x_train, y_train), (x_test, y_test) = mnist.load_data()\n",
        "\n",
        "print(\"Training data shape:\", x_train.shape)\n",
        "print(\"Training labels shape:\", y_train.shape)\n",
        "print(\"Test data shape:\", x_test.shape)\n",
        "print(\"Test labels shape:\", y_test.shape)\n",
        "\n",
        "# Display a sample digit\n",
        "plt.imshow(x_train[0], cmap='gray')\n",
        "plt.title(f\"Digit: {y_train[0]}\")\n",
        "plt.show()"
      ],
      "metadata": {
        "colab": {
          "base_uri": "https://localhost:8080/",
          "height": 556
        },
        "id": "O9M3lc0fg0hC",
        "outputId": "b7e18168-b661-4300-8df7-992d8231e237"
      },
      "execution_count": 5,
      "outputs": [
        {
          "output_type": "stream",
          "name": "stdout",
          "text": [
            "Downloading data from https://storage.googleapis.com/tensorflow/tf-keras-datasets/mnist.npz\n",
            "\u001b[1m11490434/11490434\u001b[0m \u001b[32m━━━━━━━━━━━━━━━━━━━━\u001b[0m\u001b[37m\u001b[0m \u001b[1m0s\u001b[0m 0us/step\n",
            "Training data shape: (60000, 28, 28)\n",
            "Training labels shape: (60000,)\n",
            "Test data shape: (10000, 28, 28)\n",
            "Test labels shape: (10000,)\n"
          ]
        },
        {
          "output_type": "display_data",
          "data": {
            "text/plain": [
              "<Figure size 640x480 with 1 Axes>"
            ],
            "image/png": "[encoded data removed]"
          },
          "metadata": {}
        }
      ]
    },
    {
      "cell_type": "markdown",
      "source": [
        "### **Part 3: SVD Decomposition**\n",
        "\n",
        "We will demonstrate how to perform the Singular Value Decomposition (SVD) on MNIST images.\n",
        "\n",
        "#### **3.1 Flattening the MNIST Images**\n",
        "\n",
        "Typically, images are 2D (28×28). For SVD on each image individually or on a batch, we often need 2D data (samples × features).  "
      ],
      "metadata": {
        "id": "2dJP5YWxhEDE"
      }
    },
    {
      "cell_type": "code",
      "source": [
        "# Flatten each 28x28 image into a 784-dimensional vector\n",
        "x_train_flat = x_train.reshape((-1, 28*28))  # shape (60000, 784)\n",
        "x_test_flat  = x_test.reshape((-1, 28*28))   # shape (10000, 784)\n",
        "\n",
        "print(\"x_train_flat shape:\", x_train_flat.shape)\n",
        "print(\"x_test_flat shape:\", x_test_flat.shape)"
      ],
      "metadata": {
        "colab": {
          "base_uri": "https://localhost:8080/"
        },
        "id": "4A0lz2Hqg1S8",
        "outputId": "bc133460-1e3a-4a18-cb42-e7fc1096f466"
      },
      "execution_count": 6,
      "outputs": [
        {
          "output_type": "stream",
          "name": "stdout",
          "text": [
            "x_train_flat shape: (60000, 784)\n",
            "x_test_flat shape: (10000, 784)\n"
          ]
        }
      ]
    },
    {
      "cell_type": "markdown",
      "source": [
        "#### **3.2 Single Image SVD Example (Optional)**\n"
      ],
      "metadata": {
        "id": "ppHnB_PbhLf9"
      }
    },
    {
      "cell_type": "markdown",
      "source": [
        "## Part 1: Understanding SVD and Its Components\n",
        "\n",
        "$$ {Definition (Singular Value Decomposition):} $$\n",
        "$$ {Given a matrix } A \\in \\mathbb{R}^{m \\times n}, \\text{ the SVD of } A { is defined as:}\n",
        "$$\n",
        "\n",
        "$$ A = U S V^T $$\n",
        "$$ {where:} $$\n",
        "\n",
        "$ U \\in {R}^{m \\times m} $ is the left singular vector matrix (orthogonal),\n",
        "\n",
        "$ S \\in \\mathbb{R}^{m \\times n} $ is the diagonal matrix containing singular values $( s_i )$,\n",
        "\n",
        "$ V^T \\in \\mathbb{R}^{n \\times n} $ is the right singular vector matrix (orthogonal).\n",
        "\n",
        "The singular values in $ S $ represent the importance of each feature in the data.\n",
        "\n",
        "## Part 2: SVD in Image Processing\n",
        "\n",
        "When applied to an image matrix $ A $ (e.g., an MNIST digit), the decomposition helps separate significant structural information from noise.\n",
        "\n",
        "For an MNIST image of shape $ {28 \t\\times 28 }$:\n",
        "\n",
        "$$\n",
        "A = U_{(28 \\times 28)} S_{(28 \\times 28)} V^T_{(28 \\times 28)}\n",
        "$$\n",
        "\n",
        "## Part 3: Reconstructing an Image Using SVD\n",
        "\n",
        "Using all singular values, we can perfectly reconstruct the image:\n",
        "\n",
        "$$\n",
        "A' = U S V^T\n",
        "$$\n",
        "\n",
        "However, to compress the image, we approximate it using only the top \\( k \\) singular values:\n",
        "\n",
        "$$\n",
        "A_k = U_k S_k V_k^T\n",
        "$$\n",
        "\n",
        "where:\n",
        "\n",
        "$ U_k $ consists of the first $ k $ columns of $ U $,\n",
        "\n",
        "$ S_k $ is a $ k \t\\times k $ diagonal matrix with the top $ k $ singular values,\n",
        "\n",
        "$ V_k^T $ consists of the first $ k $ rows of $ V^T $.\n",
        "\n",
        "This approximation reduces the storage while preserving essential image features.\n",
        "\n",
        "## Part 4: Effects of Varying $ k $\n",
        "\n",
        "Reconstruction Quality Based on $ k $:\n",
        "\n",
        "- Small $ k $ (e.g., 5): Blurry image, loss of fine details.\n",
        "\n",
        "- Moderate $ k $ (e.g., 10-15): Structure is recognizable but lacks sharpness.\n",
        "\n",
        "- Larger $ k $ (e.g., 20-28): Almost identical to the original image.\n",
        "\n",
        "The fewer singular values we keep, the more compressed but less detailed the image becomes.\n",
        "\n",
        "## Part 5: Practical Application in Image Compression\n",
        "\n",
        "1. Compute the SVD of an image $ A $.\n",
        "\n",
        "2. Keep only the largest $ k $ singular values.\n",
        "\n",
        "3. Reconstruct an approximation $ A_k $.\n",
        "\n",
        "4. Store or transmit only the top $ k $ singular values and vectors, saving storage while preserving key features.\n",
        "\n",
        "#### SVD is widely used in:\n",
        "\n",
        "* Image compression\n",
        "\n",
        "* Dimensionality reduction (e.g., PCA)\n",
        "\n",
        "* Noise reduction and denoising images\n",
        "\n",
        "This technique demonstrates how linear algebra can be leveraged for efficient data representation in machine learning and image processing. 🚀"
      ],
      "metadata": {
        "id": "P4TuoUJFrYwD"
      }
    },
    {
      "cell_type": "code",
      "source": [
        "example_image = x_train[0]  # shape (28,28)\n",
        "\n",
        "# Convert to float and normalize\n",
        "example_image = example_image.astype(float) / 255.0\n",
        "\n",
        "# Perform SVD on the single 28x28 image\n",
        "U, S, Vt = np.linalg.svd(example_image, full_matrices=False)\n",
        "\n",
        "print(\"U shape:\", U.shape)\n",
        "print(\"S shape:\", S.shape)\n",
        "print(\"Vt shape:\", Vt.shape)\n",
        "\n",
        "# Reconstruct the image using all singular values\n",
        "reconstructed = (U @ np.diag(S) @ Vt)\n",
        "\n",
        "plt.figure(figsize=(8,4))\n",
        "plt.subplot(1,2,1)\n",
        "plt.title(\"Original\")\n",
        "plt.imshow(example_image, cmap='gray')\n",
        "\n",
        "plt.subplot(1,2,2)\n",
        "plt.title(\"Reconstructed\")\n",
        "plt.imshow(reconstructed, cmap='gray')\n",
        "plt.show()"
      ],
      "metadata": {
        "colab": {
          "base_uri": "https://localhost:8080/",
          "height": 416
        },
        "id": "i0kSvonkhFF-",
        "outputId": "989f487c-66d4-44de-baa5-6f6e2b6260c7"
      },
      "execution_count": 16,
      "outputs": [
        {
          "output_type": "stream",
          "name": "stdout",
          "text": [
            "U shape: (28, 28)\n",
            "S shape: (28,)\n",
            "Vt shape: (28, 28)\n"
          ]
        },
        {
          "output_type": "display_data",
          "data": {
            "text/plain": [
              "<Figure size 800x400 with 2 Axes>"
            ],
            "image/png": "[encoded data removed]"
          },
          "metadata": {}
        }
      ]
    },
    {
      "cell_type": "markdown",
      "source": [
        "### **Part 4: Using SVD to Reduce Dimensionality of Many Images**\n"
      ],
      "metadata": {
        "id": "Wq1KbrCPhYsG"
      }
    },
    {
      "cell_type": "code",
      "source": [
        "# Take a smaller subset for demonstration, e.g. 5000 images\n",
        "subset_size = 5000\n",
        "X = x_train_flat[:subset_size].astype(float) / 255.0  # Scale to [0,1]\n",
        "\n",
        "print(\"Subset shape:\", X.shape)"
      ],
      "metadata": {
        "colab": {
          "base_uri": "https://localhost:8080/"
        },
        "id": "BML_rZwnhMTP",
        "outputId": "5c2ae48b-acc0-43c4-eaa7-470d7635f05c"
      },
      "execution_count": 17,
      "outputs": [
        {
          "output_type": "stream",
          "name": "stdout",
          "text": [
            "Subset shape: (5000, 784)\n"
          ]
        }
      ]
    },
    {
      "cell_type": "code",
      "source": [
        "# Perform SVD\n",
        "U, S, Vt = np.linalg.svd(X, full_matrices=False)\n",
        "\n",
        "print(\"U shape:\", U.shape)\n",
        "print(\"S shape:\", S.shape)\n",
        "print(\"Vt shape:\", Vt.shape)"
      ],
      "metadata": {
        "colab": {
          "base_uri": "https://localhost:8080/"
        },
        "id": "PXcEMKeQhZmr",
        "outputId": "dad9902a-829a-47a8-e292-b5868a676bbd"
      },
      "execution_count": 24,
      "outputs": [
        {
          "output_type": "stream",
          "name": "stdout",
          "text": [
            "U shape: (5000, 784)\n",
            "S shape: (784,)\n",
            "Vt shape: (784, 784)\n"
          ]
        }
      ]
    },
    {
      "cell_type": "markdown",
      "source": [
        "### **Part 5: Truncated SVD for Dimensionality Reduction**"
      ],
      "metadata": {
        "id": "bSsP-ymdhlDY"
      }
    },
    {
      "cell_type": "code",
      "source": [
        "# Perform SVD on the example image\n",
        "U, S, Vt = np.linalg.svd(example_image, full_matrices=False)\n",
        "\n",
        "# Define k values for reconstruction\n",
        "k_values = [5, 20, 50, 100, 200]\n",
        "\n",
        "# Compute reconstruction errors and store results\n",
        "reconstruction_errors = []\n",
        "\n",
        "# Create subplots\n",
        "plt.figure(figsize=(10, 6))\n",
        "\n",
        "for i, k in enumerate(k_values):\n",
        "    # Approximate the image using the first k singular values\n",
        "    U_k = U[:, :k]  # First k columns of U\n",
        "    S_k = np.diag(S[:k])  # k x k diagonal matrix\n",
        "    Vt_k = Vt[:k, :]  # First k rows of Vt\n",
        "\n",
        "    # Reconstruct the image\n",
        "    reconstructed_image = U_k @ S_k @ Vt_k\n",
        "\n",
        "    # Compute reconstruction error (Frobenius norm)\n",
        "    error = np.linalg.norm(example_image - reconstructed_image, 'fro')\n",
        "    reconstruction_errors.append((k, error))\n",
        "\n",
        "    # Plot the reconstructed image\n",
        "    plt.subplot(2, len(k_values), i + 1)\n",
        "    plt.imshow(reconstructed_image, cmap='gray')\n",
        "    plt.title(f\"k={k}\")\n",
        "    plt.axis(\"off\")\n",
        "\n",
        "# Plot original image for reference\n",
        "plt.subplot(2, len(k_values), len(k_values) + 1)\n",
        "plt.imshow(example_image.reshape(28, 28), cmap='gray')\n",
        "plt.title(\"Original\")\n",
        "plt.axis(\"off\")\n",
        "\n",
        "plt.tight_layout()\n",
        "plt.show()\n",
        "\n",
        "# Convert errors to a DataFrame and print\n",
        "df_errors = pd.DataFrame(reconstruction_errors, columns=[\"k\", \"Reconstruction Error\"])\n",
        "print(df_errors)\n"
      ],
      "metadata": {
        "colab": {
          "base_uri": "https://localhost:8080/",
          "height": 618
        },
        "id": "FDeqWmlShfFi",
        "outputId": "a6801358-2d59-412d-f296-130d6cb66bf1"
      },
      "execution_count": 32,
      "outputs": [
        {
          "output_type": "display_data",
          "data": {
            "text/plain": [
              "<Figure size 1000x600 with 6 Axes>"
            ],
            "image/png": "[encoded data removed]"
          },
          "metadata": {}
        },
        {
          "output_type": "stream",
          "name": "stdout",
          "text": [
            "     k  Reconstruction Error\n",
            "0    5          5.904350e+00\n",
            "1   20          9.915417e-01\n",
            "2   50          6.440766e-14\n",
            "3  100          6.440766e-14\n",
            "4  200          6.440766e-14\n"
          ]
        }
      ]
    }
  ]
}